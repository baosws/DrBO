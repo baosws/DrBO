{
 "cells": [
  {
   "cell_type": "code",
   "execution_count": 1,
   "metadata": {},
   "outputs": [],
   "source": [
    "import warnings\n",
    "import os\n",
    "os.environ['OMP_NUM_THREADS'] = '1'\n",
    "warnings.simplefilter(\"ignore\")\n",
    "os.environ[\"PYTHONWARNINGS\"] = \"ignore\"\n",
    "import logging\n",
    "logging.basicConfig(force=True)\n",
    "\n",
    "import pandas as pd\n",
    "from castle.metrics import MetricsDAG\n",
    "from drbo.pruners import prune_linear, prune_cit\n",
    "from drbo import DrBO\n",
    "from drbo.utils import sim_data, read_nonlinear_gp, read_sachs, viz_history"
   ]
  },
  {
   "cell_type": "markdown",
   "metadata": {},
   "source": [
    "Note: this demo is run on Intel® Core™ i9-12900 and NVIDIA GeForce RTX 4060 Ti."
   ]
  },
  {
   "cell_type": "markdown",
   "metadata": {},
   "source": [
    "## Linear-Gaussian data"
   ]
  },
  {
   "cell_type": "code",
   "execution_count": 2,
   "metadata": {},
   "outputs": [
    {
     "name": "stderr",
     "output_type": "stream",
     "text": [
      "  0%|          | 0/4000 [00:00<?, ?it/s]WARNING:jax._src.xla_bridge:An NVIDIA GPU may be present on this machine, but a CUDA-enabled jaxlib is not installed. Falling back to cpu.\n",
      "4032it [02:13, 30.19it/s, rmse=0.058,r2=-0.055,GT=-0.028299,Best=-0.070548@4027,shd=0]                            "
     ]
    },
    {
     "name": "stdout",
     "output_type": "stream",
     "text": [
      "{'fdr': 0.0, 'tpr': 1.0, 'fpr': 0.0, 'shd': 0, 'nnz': 124, 'precision': np.float64(1.0), 'recall': np.float64(1.0), 'F1': np.float64(1.0), 'gscore': np.float64(1.0)}\n"
     ]
    },
    {
     "name": "stderr",
     "output_type": "stream",
     "text": [
      "\n"
     ]
    }
   ],
   "source": [
    "# Linear-Gaussian data with dense graphs 30ER4\n",
    "data = sim_data(samples=1000, nodes=30, edges_per_node=4, random_state=1)\n",
    "pred = DrBO(\n",
    "    X=data.X,\n",
    "    GT=data.B, # for tracking performance only\n",
    "    score_method='BIC',\n",
    "    score_params={\n",
    "        'noise_var': 'ev',\n",
    "        'reg': 'linear'\n",
    "    },\n",
    "    max_evals=4000, # the more the better\n",
    "    pruner=prune_linear,\n",
    "    device='cuda',\n",
    "    verbose=True,\n",
    ")\n",
    "# in the progress bar: rmse & r2 = error metrics between estimated & true scores, GT = BIC score of ground truth, Best = Best BIC so far, both divided by nxd\n",
    "print(MetricsDAG._count_accuracy(prune_linear(data.X, pred['raw']), data.B))"
   ]
  },
  {
   "cell_type": "markdown",
   "metadata": {},
   "source": [
    "Learning curve:"
   ]
  },
  {
   "cell_type": "code",
   "execution_count": 3,
   "metadata": {},
   "outputs": [
    {
     "data": {
      "text/html": [
       "<div>\n",
       "<style scoped>\n",
       "    .dataframe tbody tr th:only-of-type {\n",
       "        vertical-align: middle;\n",
       "    }\n",
       "\n",
       "    .dataframe tbody tr th {\n",
       "        vertical-align: top;\n",
       "    }\n",
       "\n",
       "    .dataframe thead th {\n",
       "        text-align: right;\n",
       "    }\n",
       "</style>\n",
       "<table border=\"1\" class=\"dataframe\">\n",
       "  <thead>\n",
       "    <tr style=\"text-align: right;\">\n",
       "      <th></th>\n",
       "      <th>step</th>\n",
       "      <th>timestamp</th>\n",
       "      <th>test_rmse</th>\n",
       "      <th>test_r2</th>\n",
       "      <th>BIC</th>\n",
       "      <th>fdr</th>\n",
       "      <th>tpr</th>\n",
       "      <th>fpr</th>\n",
       "      <th>shd</th>\n",
       "      <th>nnz</th>\n",
       "      <th>precision</th>\n",
       "      <th>recall</th>\n",
       "      <th>F1</th>\n",
       "      <th>gscore</th>\n",
       "    </tr>\n",
       "  </thead>\n",
       "  <tbody>\n",
       "    <tr>\n",
       "      <th>0</th>\n",
       "      <td>0</td>\n",
       "      <td>0.734272</td>\n",
       "      <td>4.515595</td>\n",
       "      <td>-28.547313</td>\n",
       "      <td>NaN</td>\n",
       "      <td>NaN</td>\n",
       "      <td>NaN</td>\n",
       "      <td>NaN</td>\n",
       "      <td>NaN</td>\n",
       "      <td>NaN</td>\n",
       "      <td>NaN</td>\n",
       "      <td>NaN</td>\n",
       "      <td>NaN</td>\n",
       "      <td>NaN</td>\n",
       "    </tr>\n",
       "    <tr>\n",
       "      <th>1</th>\n",
       "      <td>64</td>\n",
       "      <td>0.747083</td>\n",
       "      <td>NaN</td>\n",
       "      <td>NaN</td>\n",
       "      <td>-2.512528</td>\n",
       "      <td>0.5545</td>\n",
       "      <td>0.3629</td>\n",
       "      <td>0.1801</td>\n",
       "      <td>127.0</td>\n",
       "      <td>101.0</td>\n",
       "      <td>0.4455</td>\n",
       "      <td>0.3629</td>\n",
       "      <td>0.400</td>\n",
       "      <td>0.0</td>\n",
       "    </tr>\n",
       "    <tr>\n",
       "      <th>2</th>\n",
       "      <td>64</td>\n",
       "      <td>3.032615</td>\n",
       "      <td>0.909988</td>\n",
       "      <td>-18.071860</td>\n",
       "      <td>NaN</td>\n",
       "      <td>NaN</td>\n",
       "      <td>NaN</td>\n",
       "      <td>NaN</td>\n",
       "      <td>NaN</td>\n",
       "      <td>NaN</td>\n",
       "      <td>NaN</td>\n",
       "      <td>NaN</td>\n",
       "      <td>NaN</td>\n",
       "      <td>NaN</td>\n",
       "    </tr>\n",
       "    <tr>\n",
       "      <th>3</th>\n",
       "      <td>128</td>\n",
       "      <td>3.044910</td>\n",
       "      <td>NaN</td>\n",
       "      <td>NaN</td>\n",
       "      <td>-2.043715</td>\n",
       "      <td>0.5586</td>\n",
       "      <td>0.3952</td>\n",
       "      <td>0.1994</td>\n",
       "      <td>131.0</td>\n",
       "      <td>111.0</td>\n",
       "      <td>0.4414</td>\n",
       "      <td>0.3952</td>\n",
       "      <td>0.417</td>\n",
       "      <td>0.0</td>\n",
       "    </tr>\n",
       "    <tr>\n",
       "      <th>4</th>\n",
       "      <td>128</td>\n",
       "      <td>5.167479</td>\n",
       "      <td>0.460087</td>\n",
       "      <td>-10.130449</td>\n",
       "      <td>NaN</td>\n",
       "      <td>NaN</td>\n",
       "      <td>NaN</td>\n",
       "      <td>NaN</td>\n",
       "      <td>NaN</td>\n",
       "      <td>NaN</td>\n",
       "      <td>NaN</td>\n",
       "      <td>NaN</td>\n",
       "      <td>NaN</td>\n",
       "      <td>NaN</td>\n",
       "    </tr>\n",
       "  </tbody>\n",
       "</table>\n",
       "</div>"
      ],
      "text/plain": [
       "   step  timestamp  test_rmse    test_r2       BIC     fdr     tpr     fpr  \\\n",
       "0     0   0.734272   4.515595 -28.547313       NaN     NaN     NaN     NaN   \n",
       "1    64   0.747083        NaN        NaN -2.512528  0.5545  0.3629  0.1801   \n",
       "2    64   3.032615   0.909988 -18.071860       NaN     NaN     NaN     NaN   \n",
       "3   128   3.044910        NaN        NaN -2.043715  0.5586  0.3952  0.1994   \n",
       "4   128   5.167479   0.460087 -10.130449       NaN     NaN     NaN     NaN   \n",
       "\n",
       "     shd    nnz  precision  recall     F1  gscore  \n",
       "0    NaN    NaN        NaN     NaN    NaN     NaN  \n",
       "1  127.0  101.0     0.4455  0.3629  0.400     0.0  \n",
       "2    NaN    NaN        NaN     NaN    NaN     NaN  \n",
       "3  131.0  111.0     0.4414  0.3952  0.417     0.0  \n",
       "4    NaN    NaN        NaN     NaN    NaN     NaN  "
      ]
     },
     "metadata": {},
     "output_type": "display_data"
    },
    {
     "data": {
      "image/png": "[encoded data removed]",
      "text/plain": [
       "<Figure size 1000x300 with 3 Axes>"
      ]
     },
     "metadata": {},
     "output_type": "display_data"
    }
   ],
   "source": [
    "df = pd.DataFrame(pred['history'])\n",
    "display(df.head())\n",
    "viz_history(df)"
   ]
  },
  {
   "cell_type": "markdown",
   "metadata": {},
   "source": [
    "## Nonlinear data with Gaussian Process"
   ]
  },
  {
   "cell_type": "code",
   "execution_count": 4,
   "metadata": {},
   "outputs": [
    {
     "name": "stderr",
     "output_type": "stream",
     "text": [
      "10048it [08:34, 19.52it/s, rmse=0.062,r2=-30753.129,GT=2.025187,Best=2.025187@1669,shd=0]                           "
     ]
    },
    {
     "name": "stdout",
     "output_type": "stream",
     "text": [
      "{'fdr': 0.0, 'tpr': 1.0, 'fpr': 0.0, 'shd': 0, 'nnz': 39, 'precision': np.float64(1.0), 'recall': np.float64(1.0), 'F1': np.float64(1.0), 'gscore': np.float64(1.0)}\n"
     ]
    },
    {
     "name": "stderr",
     "output_type": "stream",
     "text": [
      "\n"
     ]
    }
   ],
   "source": [
    "# First, download the data: https://github.com/kurowasan/GraN-DAG/blob/master/data/data_p10_e40_n1000_GP.zip\n",
    "# Then, extract it to 'data/'\n",
    "data = read_nonlinear_gp('data_p10_e40_n1000_GP', id=1)\n",
    "pred = DrBO(\n",
    "    X=data['X'],\n",
    "    GT=data['GT'], # for tracking performance only\n",
    "    score_method='BIC',\n",
    "    score_params={\n",
    "        'noise_var': 'nv', # Non-equal noise variant\n",
    "        'reg': 'gp',\n",
    "        'alpha': 1 # regularization for GP\n",
    "    },\n",
    "    max_evals=10000, # the more the better\n",
    "    device='cuda',\n",
    "    verbose=True,\n",
    ")\n",
    "print(MetricsDAG._count_accuracy(pred['raw'], data['GT']))"
   ]
  },
  {
   "cell_type": "markdown",
   "metadata": {},
   "source": [
    "Learning curve:"
   ]
  },
  {
   "cell_type": "code",
   "execution_count": 5,
   "metadata": {},
   "outputs": [
    {
     "data": {
      "text/html": [
       "<div>\n",
       "<style scoped>\n",
       "    .dataframe tbody tr th:only-of-type {\n",
       "        vertical-align: middle;\n",
       "    }\n",
       "\n",
       "    .dataframe tbody tr th {\n",
       "        vertical-align: top;\n",
       "    }\n",
       "\n",
       "    .dataframe thead th {\n",
       "        text-align: right;\n",
       "    }\n",
       "</style>\n",
       "<table border=\"1\" class=\"dataframe\">\n",
       "  <thead>\n",
       "    <tr style=\"text-align: right;\">\n",
       "      <th></th>\n",
       "      <th>step</th>\n",
       "      <th>timestamp</th>\n",
       "      <th>test_rmse</th>\n",
       "      <th>test_r2</th>\n",
       "      <th>BIC</th>\n",
       "      <th>fdr</th>\n",
       "      <th>tpr</th>\n",
       "      <th>fpr</th>\n",
       "      <th>shd</th>\n",
       "      <th>nnz</th>\n",
       "      <th>precision</th>\n",
       "      <th>recall</th>\n",
       "      <th>F1</th>\n",
       "      <th>gscore</th>\n",
       "    </tr>\n",
       "  </thead>\n",
       "  <tbody>\n",
       "    <tr>\n",
       "      <th>0</th>\n",
       "      <td>0</td>\n",
       "      <td>127.648281</td>\n",
       "      <td>0.767720</td>\n",
       "      <td>-14.755777</td>\n",
       "      <td>NaN</td>\n",
       "      <td>NaN</td>\n",
       "      <td>NaN</td>\n",
       "      <td>NaN</td>\n",
       "      <td>NaN</td>\n",
       "      <td>NaN</td>\n",
       "      <td>NaN</td>\n",
       "      <td>NaN</td>\n",
       "      <td>NaN</td>\n",
       "      <td>NaN</td>\n",
       "    </tr>\n",
       "    <tr>\n",
       "      <th>1</th>\n",
       "      <td>64</td>\n",
       "      <td>127.651038</td>\n",
       "      <td>NaN</td>\n",
       "      <td>NaN</td>\n",
       "      <td>1.527734</td>\n",
       "      <td>0.3529</td>\n",
       "      <td>0.5641</td>\n",
       "      <td>2.0000</td>\n",
       "      <td>21.0</td>\n",
       "      <td>34.0</td>\n",
       "      <td>0.6471</td>\n",
       "      <td>0.5641</td>\n",
       "      <td>0.6027</td>\n",
       "      <td>0.2564</td>\n",
       "    </tr>\n",
       "    <tr>\n",
       "      <th>2</th>\n",
       "      <td>64</td>\n",
       "      <td>188.707692</td>\n",
       "      <td>0.216466</td>\n",
       "      <td>-0.753145</td>\n",
       "      <td>NaN</td>\n",
       "      <td>NaN</td>\n",
       "      <td>NaN</td>\n",
       "      <td>NaN</td>\n",
       "      <td>NaN</td>\n",
       "      <td>NaN</td>\n",
       "      <td>NaN</td>\n",
       "      <td>NaN</td>\n",
       "      <td>NaN</td>\n",
       "      <td>NaN</td>\n",
       "    </tr>\n",
       "    <tr>\n",
       "      <th>3</th>\n",
       "      <td>128</td>\n",
       "      <td>188.710503</td>\n",
       "      <td>NaN</td>\n",
       "      <td>NaN</td>\n",
       "      <td>1.710057</td>\n",
       "      <td>0.2821</td>\n",
       "      <td>0.7179</td>\n",
       "      <td>1.8333</td>\n",
       "      <td>16.0</td>\n",
       "      <td>39.0</td>\n",
       "      <td>0.7179</td>\n",
       "      <td>0.7179</td>\n",
       "      <td>0.7179</td>\n",
       "      <td>0.4359</td>\n",
       "    </tr>\n",
       "    <tr>\n",
       "      <th>4</th>\n",
       "      <td>128</td>\n",
       "      <td>211.638206</td>\n",
       "      <td>0.165055</td>\n",
       "      <td>-9.498607</td>\n",
       "      <td>NaN</td>\n",
       "      <td>NaN</td>\n",
       "      <td>NaN</td>\n",
       "      <td>NaN</td>\n",
       "      <td>NaN</td>\n",
       "      <td>NaN</td>\n",
       "      <td>NaN</td>\n",
       "      <td>NaN</td>\n",
       "      <td>NaN</td>\n",
       "      <td>NaN</td>\n",
       "    </tr>\n",
       "  </tbody>\n",
       "</table>\n",
       "</div>"
      ],
      "text/plain": [
       "   step   timestamp  test_rmse    test_r2       BIC     fdr     tpr     fpr  \\\n",
       "0     0  127.648281   0.767720 -14.755777       NaN     NaN     NaN     NaN   \n",
       "1    64  127.651038        NaN        NaN  1.527734  0.3529  0.5641  2.0000   \n",
       "2    64  188.707692   0.216466  -0.753145       NaN     NaN     NaN     NaN   \n",
       "3   128  188.710503        NaN        NaN  1.710057  0.2821  0.7179  1.8333   \n",
       "4   128  211.638206   0.165055  -9.498607       NaN     NaN     NaN     NaN   \n",
       "\n",
       "    shd   nnz  precision  recall      F1  gscore  \n",
       "0   NaN   NaN        NaN     NaN     NaN     NaN  \n",
       "1  21.0  34.0     0.6471  0.5641  0.6027  0.2564  \n",
       "2   NaN   NaN        NaN     NaN     NaN     NaN  \n",
       "3  16.0  39.0     0.7179  0.7179  0.7179  0.4359  \n",
       "4   NaN   NaN        NaN     NaN     NaN     NaN  "
      ]
     },
     "metadata": {},
     "output_type": "display_data"
    },
    {
     "data": {
      "image/png": "[encoded data removed]",
      "text/plain": [
       "<Figure size 1000x300 with 3 Axes>"
      ]
     },
     "metadata": {},
     "output_type": "display_data"
    }
   ],
   "source": [
    "df = pd.DataFrame(pred['history'])\n",
    "display(df.head())\n",
    "viz_history(df)"
   ]
  },
  {
   "cell_type": "markdown",
   "metadata": {},
   "source": [
    "## Sachs data"
   ]
  },
  {
   "cell_type": "code",
   "execution_count": 2,
   "metadata": {},
   "outputs": [
    {
     "name": "stderr",
     "output_type": "stream",
     "text": [
      "  0%|          | 0/5000 [00:00<?, ?it/s]WARNING:jax._src.xla_bridge:An NVIDIA GPU may be present on this machine, but a CUDA-enabled jaxlib is not installed. Falling back to cpu.\n",
      "5056it [10:33,  7.99it/s, rmse=0.892,r2=-77.180,GT=1.164726,Best=3.432928@3144,shd=9]                               \n"
     ]
    },
    {
     "name": "stdout",
     "output_type": "stream",
     "text": [
      "{'fdr': 0.1111, 'tpr': 0.4706, 'fpr': 0.0263, 'shd': 9, 'nnz': 9, 'precision': np.float64(0.8889), 'recall': np.float64(0.4706), 'F1': np.float64(0.6154), 'gscore': np.float64(0.4118)}\n"
     ]
    }
   ],
   "source": [
    "# This requires 2 files \"data/sachs/observations.csv\" and \"data/sachs/dag.csv\"\n",
    "data = read_sachs()\n",
    "pred = DrBO(\n",
    "    X=data['X'],\n",
    "    GT=data['GT'],\n",
    "    score_method='BIC',\n",
    "    normalize=True,\n",
    "    score_params={\n",
    "        'noise_var': 'nv',\n",
    "        'reg': 'gp',\n",
    "        'med_bw': True,\n",
    "    },\n",
    "    pruner=prune_cit,\n",
    "    max_evals=5000,\n",
    "    device='cuda',\n",
    "    verbose=True,\n",
    ")\n",
    "print(MetricsDAG._count_accuracy(prune_cit(data['X'], pred['raw']), data['GT']))"
   ]
  },
  {
   "cell_type": "code",
   "execution_count": 3,
   "metadata": {},
   "outputs": [
    {
     "data": {
      "text/html": [
       "<div>\n",
       "<style scoped>\n",
       "    .dataframe tbody tr th:only-of-type {\n",
       "        vertical-align: middle;\n",
       "    }\n",
       "\n",
       "    .dataframe tbody tr th {\n",
       "        vertical-align: top;\n",
       "    }\n",
       "\n",
       "    .dataframe thead th {\n",
       "        text-align: right;\n",
       "    }\n",
       "</style>\n",
       "<table border=\"1\" class=\"dataframe\">\n",
       "  <thead>\n",
       "    <tr style=\"text-align: right;\">\n",
       "      <th></th>\n",
       "      <th>step</th>\n",
       "      <th>timestamp</th>\n",
       "      <th>test_rmse</th>\n",
       "      <th>test_r2</th>\n",
       "      <th>BIC</th>\n",
       "      <th>fdr</th>\n",
       "      <th>tpr</th>\n",
       "      <th>fpr</th>\n",
       "      <th>shd</th>\n",
       "      <th>nnz</th>\n",
       "      <th>precision</th>\n",
       "      <th>recall</th>\n",
       "      <th>F1</th>\n",
       "      <th>gscore</th>\n",
       "    </tr>\n",
       "  </thead>\n",
       "  <tbody>\n",
       "    <tr>\n",
       "      <th>0</th>\n",
       "      <td>0</td>\n",
       "      <td>44.895277</td>\n",
       "      <td>1.092228</td>\n",
       "      <td>-8.534932</td>\n",
       "      <td>NaN</td>\n",
       "      <td>NaN</td>\n",
       "      <td>NaN</td>\n",
       "      <td>NaN</td>\n",
       "      <td>NaN</td>\n",
       "      <td>NaN</td>\n",
       "      <td>NaN</td>\n",
       "      <td>NaN</td>\n",
       "      <td>NaN</td>\n",
       "      <td>NaN</td>\n",
       "    </tr>\n",
       "    <tr>\n",
       "      <th>1</th>\n",
       "      <td>64</td>\n",
       "      <td>59.966179</td>\n",
       "      <td>NaN</td>\n",
       "      <td>NaN</td>\n",
       "      <td>2.078590</td>\n",
       "      <td>0.5</td>\n",
       "      <td>0.2353</td>\n",
       "      <td>0.1053</td>\n",
       "      <td>14.0</td>\n",
       "      <td>8.0</td>\n",
       "      <td>0.5</td>\n",
       "      <td>0.2353</td>\n",
       "      <td>0.3200</td>\n",
       "      <td>0.0</td>\n",
       "    </tr>\n",
       "    <tr>\n",
       "      <th>2</th>\n",
       "      <td>64</td>\n",
       "      <td>86.406083</td>\n",
       "      <td>0.449458</td>\n",
       "      <td>-2.171872</td>\n",
       "      <td>NaN</td>\n",
       "      <td>NaN</td>\n",
       "      <td>NaN</td>\n",
       "      <td>NaN</td>\n",
       "      <td>NaN</td>\n",
       "      <td>NaN</td>\n",
       "      <td>NaN</td>\n",
       "      <td>NaN</td>\n",
       "      <td>NaN</td>\n",
       "      <td>NaN</td>\n",
       "    </tr>\n",
       "    <tr>\n",
       "      <th>3</th>\n",
       "      <td>128</td>\n",
       "      <td>105.139927</td>\n",
       "      <td>NaN</td>\n",
       "      <td>NaN</td>\n",
       "      <td>2.807389</td>\n",
       "      <td>0.6</td>\n",
       "      <td>0.2353</td>\n",
       "      <td>0.1579</td>\n",
       "      <td>14.0</td>\n",
       "      <td>10.0</td>\n",
       "      <td>0.4</td>\n",
       "      <td>0.2353</td>\n",
       "      <td>0.2963</td>\n",
       "      <td>0.0</td>\n",
       "    </tr>\n",
       "    <tr>\n",
       "      <th>4</th>\n",
       "      <td>128</td>\n",
       "      <td>123.867576</td>\n",
       "      <td>0.260146</td>\n",
       "      <td>-1.127990</td>\n",
       "      <td>NaN</td>\n",
       "      <td>NaN</td>\n",
       "      <td>NaN</td>\n",
       "      <td>NaN</td>\n",
       "      <td>NaN</td>\n",
       "      <td>NaN</td>\n",
       "      <td>NaN</td>\n",
       "      <td>NaN</td>\n",
       "      <td>NaN</td>\n",
       "      <td>NaN</td>\n",
       "    </tr>\n",
       "  </tbody>\n",
       "</table>\n",
       "</div>"
      ],
      "text/plain": [
       "   step   timestamp  test_rmse   test_r2       BIC  fdr     tpr     fpr   shd  \\\n",
       "0     0   44.895277   1.092228 -8.534932       NaN  NaN     NaN     NaN   NaN   \n",
       "1    64   59.966179        NaN       NaN  2.078590  0.5  0.2353  0.1053  14.0   \n",
       "2    64   86.406083   0.449458 -2.171872       NaN  NaN     NaN     NaN   NaN   \n",
       "3   128  105.139927        NaN       NaN  2.807389  0.6  0.2353  0.1579  14.0   \n",
       "4   128  123.867576   0.260146 -1.127990       NaN  NaN     NaN     NaN   NaN   \n",
       "\n",
       "    nnz  precision  recall      F1  gscore  \n",
       "0   NaN        NaN     NaN     NaN     NaN  \n",
       "1   8.0        0.5  0.2353  0.3200     0.0  \n",
       "2   NaN        NaN     NaN     NaN     NaN  \n",
       "3  10.0        0.4  0.2353  0.2963     0.0  \n",
       "4   NaN        NaN     NaN     NaN     NaN  "
      ]
     },
     "metadata": {},
     "output_type": "display_data"
    },
    {
     "data": {
      "image/png": "[encoded data removed]",
      "text/plain": [
       "<Figure size 1000x300 with 3 Axes>"
      ]
     },
     "metadata": {},
     "output_type": "display_data"
    }
   ],
   "source": [
    "df = pd.DataFrame(pred['history'])\n",
    "display(df.head())\n",
    "viz_history(df)"
   ]
  }
 ],
 "metadata": {
  "kernelspec": {
   "display_name": "drbo",
   "language": "python",
   "name": "python3"
  },
  "language_info": {
   "codemirror_mode": {
    "name": "ipython",
    "version": 3
   },
   "file_extension": ".py",
   "mimetype": "text/x-python",
   "name": "python",
   "nbconvert_exporter": "python",
   "pygments_lexer": "ipython3",
   "version": "3.10.15"
  }
 },
 "nbformat": 4,
 "nbformat_minor": 2
}
